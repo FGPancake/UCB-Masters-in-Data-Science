{
  "cells": [
    {
      "cell_type": "code",
      "source": [
        "import pandas as pd\n",
        "import numpy\n",
        "import re"
      ],
      "metadata": {
        "id": "ZX92hb3cAe6x"
      },
      "execution_count": 5,
      "outputs": []
    },
    {
      "cell_type": "code",
      "source": [
        "from google.colab import drive\n",
        "drive.mount('/content/drive')"
      ],
      "metadata": {
        "colab": {
          "base_uri": "https://localhost:8080/"
        },
        "id": "O4q5X9YjrcL3",
        "outputId": "6bdfecc0-9a74-4ac2-c326-fd65df0109b1"
      },
      "execution_count": 6,
      "outputs": [
        {
          "output_type": "stream",
          "name": "stdout",
          "text": [
            "Drive already mounted at /content/drive; to attempt to forcibly remount, call drive.mount(\"/content/drive\", force_remount=True).\n"
          ]
        }
      ]
    },
    {
      "cell_type": "code",
      "source": [
        "csv_file = 'drive/MyDrive/Colab Notebooks/w266/Project/data/ds2.csv'"
      ],
      "metadata": {
        "id": "er6Eu3l3r68D"
      },
      "execution_count": 7,
      "outputs": []
    },
    {
      "cell_type": "code",
      "source": [
        "df = pd.read_csv(csv_file)"
      ],
      "metadata": {
        "id": "cItsy22SqJTo"
      },
      "execution_count": 8,
      "outputs": []
    },
    {
      "cell_type": "code",
      "source": [
        "df.info()"
      ],
      "metadata": {
        "id": "y2GTY1wPqSn5",
        "colab": {
          "base_uri": "https://localhost:8080/"
        },
        "outputId": "92266f30-fbd3-4f57-9d7d-2162cd2576fa"
      },
      "execution_count": 9,
      "outputs": [
        {
          "output_type": "stream",
          "name": "stdout",
          "text": [
            "<class 'pandas.core.frame.DataFrame'>\n",
            "RangeIndex: 5913411 entries, 0 to 5913410\n",
            "Data columns (total 8 columns):\n",
            " #   Column    Dtype \n",
            "---  ------    ----- \n",
            " 0   title     object\n",
            " 1   tag       object\n",
            " 2   artist    object\n",
            " 3   year      int64 \n",
            " 4   views     int64 \n",
            " 5   features  object\n",
            " 6   lyrics    object\n",
            " 7   id        int64 \n",
            "dtypes: int64(3), object(5)\n",
            "memory usage: 360.9+ MB\n"
          ]
        }
      ]
    },
    {
      "cell_type": "markdown",
      "source": [
        "Hip hop as a stand alone category accoutned for almost half of the total songs in the dataset"
      ],
      "metadata": {
        "id": "LEAAdOrxwGkj"
      }
    },
    {
      "cell_type": "code",
      "source": [
        "  df_rap = df[df['tag'].str.lower() == 'rap'].copy()"
      ],
      "metadata": {
        "id": "GSYwex5orKj6"
      },
      "execution_count": 10,
      "outputs": []
    },
    {
      "cell_type": "code",
      "source": [
        "mainstream_hiphop_artists = [\n",
        "    '2 Chainz', '50 Cent', 'Busta Rhymes', 'Chief Keef', 'DMX', 'Drake',\n",
        "    'Eminem', 'Fat Joe', 'French Montana', 'Future', 'G-Eazy', 'Gucci Mane',\n",
        "    'G-Unit', 'ICE-T', 'JAY-Z', 'Joey Bada$$', 'Kanye West', 'Lil Durk', 'Lil Wayne',\n",
        "    'Ludacris', 'Mary J. Blige', 'Meek Mill', 'Method Man', 'Missy Elliott',\n",
        "    'Nas', 'Nelly', 'Nicki Minaj', 'N.W.A.', 'Polo G', 'Pusha T', 'Rick Ross',\n",
        "    'Snoop Dogg', 'Tech N9ne', 'The Game', 'Tyga', 'Wiz Khalifa', 'YG', 'Young Thug'\n",
        "]\n",
        "df_rap = df_rap[df_rap['artist'].isin(mainstream_hiphop_artists)]"
      ],
      "metadata": {
        "id": "vMUDJl5jrKc-"
      },
      "execution_count": 11,
      "outputs": []
    },
    {
      "cell_type": "code",
      "source": [
        "def split_lyrics_to_line_pairs(df):\n",
        "    records = []\n",
        "\n",
        "    for idx, row in df.iterrows():\n",
        "        lyrics = row['lyrics']\n",
        "\n",
        "        if pd.isnull(lyrics):\n",
        "            continue\n",
        "\n",
        "        lyrics = re.sub(r'\\[.*?\\]', '', str(lyrics))\n",
        "\n",
        "        # Split lyrics by line breaks and remove empty lines\n",
        "        lines = [line.strip() for line in str(lyrics).split('\\n') if line.strip()]\n",
        "\n",
        "        # Only proceed if there are at least 2 lines\n",
        "        for i in range(len(lines) - 1):\n",
        "            records.append({\n",
        "                'line': lines[i],\n",
        "                'actual_line': lines[i + 1],\n",
        "                'title': row['title'],\n",
        "                'artist': row['artist'],\n",
        "                'year': row['year'],\n",
        "                'views': row['views'],\n",
        "                'features': row['features'],\n",
        "                'id': row['id'],\n",
        "            })\n",
        "\n",
        "    return pd.DataFrame(records)\n",
        "\n",
        "# Usage\n",
        "new_df = split_lyrics_to_line_pairs(df_rap)\n"
      ],
      "metadata": {
        "id": "P9Q0Yyiwscgi"
      },
      "execution_count": 14,
      "outputs": []
    },
    {
      "cell_type": "code",
      "source": [
        "new_df.info()"
      ],
      "metadata": {
        "colab": {
          "base_uri": "https://localhost:8080/"
        },
        "id": "lKbf3eDWEf9g",
        "outputId": "579942b7-2fe4-4300-eace-ab3cb4fb0570"
      },
      "execution_count": 15,
      "outputs": [
        {
          "output_type": "stream",
          "name": "stdout",
          "text": [
            "<class 'pandas.core.frame.DataFrame'>\n",
            "RangeIndex: 939745 entries, 0 to 939744\n",
            "Data columns (total 8 columns):\n",
            " #   Column       Non-Null Count   Dtype \n",
            "---  ------       --------------   ----- \n",
            " 0   line         939745 non-null  object\n",
            " 1   actual_line  939745 non-null  object\n",
            " 2   title        939745 non-null  object\n",
            " 3   artist       939745 non-null  object\n",
            " 4   year         939745 non-null  int64 \n",
            " 5   views        939745 non-null  int64 \n",
            " 6   features     939745 non-null  object\n",
            " 7   id           939745 non-null  int64 \n",
            "dtypes: int64(3), object(5)\n",
            "memory usage: 57.4+ MB\n"
          ]
        }
      ]
    },
    {
      "cell_type": "code",
      "source": [
        "new_df.head()"
      ],
      "metadata": {
        "colab": {
          "base_uri": "https://localhost:8080/",
          "height": 293
        },
        "id": "X3GnQcuHEhMP",
        "outputId": "61ecc545-6247-4078-e8fa-870fb5261abc"
      },
      "execution_count": 16,
      "outputs": [
        {
          "output_type": "execute_result",
          "data": {
            "text/plain": [
              "                                             line  \\\n",
              "0                    Yeah, hah, yeah, Roc-A-Fella   \n",
              "1      We invite you to somethin' epic, you know?   \n",
              "2  Well, we hustle out of a sense of hopelessness   \n",
              "3                           Sort of a desperation   \n",
              "4    Through that desperation, we become addicted   \n",
              "\n",
              "                                        actual_line       title artist  year  \\\n",
              "0        We invite you to somethin' epic, you know?  Can I Live  JAY-Z  1996   \n",
              "1    Well, we hustle out of a sense of hopelessness  Can I Live  JAY-Z  1996   \n",
              "2                             Sort of a desperation  Can I Live  JAY-Z  1996   \n",
              "3      Through that desperation, we become addicted  Can I Live  JAY-Z  1996   \n",
              "4  Sort of like the fiends we accustomed to servin'  Can I Live  JAY-Z  1996   \n",
              "\n",
              "    views features  id  \n",
              "0  468624       {}   3  \n",
              "1  468624       {}   3  \n",
              "2  468624       {}   3  \n",
              "3  468624       {}   3  \n",
              "4  468624       {}   3  "
            ],
            "text/html": [
              "\n",
              "  <div id=\"df-5a3dfc96-9e96-402c-9555-1c3eb79676c5\" class=\"colab-df-container\">\n",
              "    <div>\n",
              "<style scoped>\n",
              "    .dataframe tbody tr th:only-of-type {\n",
              "        vertical-align: middle;\n",
              "    }\n",
              "\n",
              "    .dataframe tbody tr th {\n",
              "        vertical-align: top;\n",
              "    }\n",
              "\n",
              "    .dataframe thead th {\n",
              "        text-align: right;\n",
              "    }\n",
              "</style>\n",
              "<table border=\"1\" class=\"dataframe\">\n",
              "  <thead>\n",
              "    <tr style=\"text-align: right;\">\n",
              "      <th></th>\n",
              "      <th>line</th>\n",
              "      <th>actual_line</th>\n",
              "      <th>title</th>\n",
              "      <th>artist</th>\n",
              "      <th>year</th>\n",
              "      <th>views</th>\n",
              "      <th>features</th>\n",
              "      <th>id</th>\n",
              "    </tr>\n",
              "  </thead>\n",
              "  <tbody>\n",
              "    <tr>\n",
              "      <th>0</th>\n",
              "      <td>Yeah, hah, yeah, Roc-A-Fella</td>\n",
              "      <td>We invite you to somethin' epic, you know?</td>\n",
              "      <td>Can I Live</td>\n",
              "      <td>JAY-Z</td>\n",
              "      <td>1996</td>\n",
              "      <td>468624</td>\n",
              "      <td>{}</td>\n",
              "      <td>3</td>\n",
              "    </tr>\n",
              "    <tr>\n",
              "      <th>1</th>\n",
              "      <td>We invite you to somethin' epic, you know?</td>\n",
              "      <td>Well, we hustle out of a sense of hopelessness</td>\n",
              "      <td>Can I Live</td>\n",
              "      <td>JAY-Z</td>\n",
              "      <td>1996</td>\n",
              "      <td>468624</td>\n",
              "      <td>{}</td>\n",
              "      <td>3</td>\n",
              "    </tr>\n",
              "    <tr>\n",
              "      <th>2</th>\n",
              "      <td>Well, we hustle out of a sense of hopelessness</td>\n",
              "      <td>Sort of a desperation</td>\n",
              "      <td>Can I Live</td>\n",
              "      <td>JAY-Z</td>\n",
              "      <td>1996</td>\n",
              "      <td>468624</td>\n",
              "      <td>{}</td>\n",
              "      <td>3</td>\n",
              "    </tr>\n",
              "    <tr>\n",
              "      <th>3</th>\n",
              "      <td>Sort of a desperation</td>\n",
              "      <td>Through that desperation, we become addicted</td>\n",
              "      <td>Can I Live</td>\n",
              "      <td>JAY-Z</td>\n",
              "      <td>1996</td>\n",
              "      <td>468624</td>\n",
              "      <td>{}</td>\n",
              "      <td>3</td>\n",
              "    </tr>\n",
              "    <tr>\n",
              "      <th>4</th>\n",
              "      <td>Through that desperation, we become addicted</td>\n",
              "      <td>Sort of like the fiends we accustomed to servin'</td>\n",
              "      <td>Can I Live</td>\n",
              "      <td>JAY-Z</td>\n",
              "      <td>1996</td>\n",
              "      <td>468624</td>\n",
              "      <td>{}</td>\n",
              "      <td>3</td>\n",
              "    </tr>\n",
              "  </tbody>\n",
              "</table>\n",
              "</div>\n",
              "    <div class=\"colab-df-buttons\">\n",
              "\n",
              "  <div class=\"colab-df-container\">\n",
              "    <button class=\"colab-df-convert\" onclick=\"convertToInteractive('df-5a3dfc96-9e96-402c-9555-1c3eb79676c5')\"\n",
              "            title=\"Convert this dataframe to an interactive table.\"\n",
              "            style=\"display:none;\">\n",
              "\n",
              "  <svg xmlns=\"http://www.w3.org/2000/svg\" height=\"24px\" viewBox=\"0 -960 960 960\">\n",
              "    <path d=\"M120-120v-720h720v720H120Zm60-500h600v-160H180v160Zm220 220h160v-160H400v160Zm0 220h160v-160H400v160ZM180-400h160v-160H180v160Zm440 0h160v-160H620v160ZM180-180h160v-160H180v160Zm440 0h160v-160H620v160Z\"/>\n",
              "  </svg>\n",
              "    </button>\n",
              "\n",
              "  <style>\n",
              "    .colab-df-container {\n",
              "      display:flex;\n",
              "      gap: 12px;\n",
              "    }\n",
              "\n",
              "    .colab-df-convert {\n",
              "      background-color: #E8F0FE;\n",
              "      border: none;\n",
              "      border-radius: 50%;\n",
              "      cursor: pointer;\n",
              "      display: none;\n",
              "      fill: #1967D2;\n",
              "      height: 32px;\n",
              "      padding: 0 0 0 0;\n",
              "      width: 32px;\n",
              "    }\n",
              "\n",
              "    .colab-df-convert:hover {\n",
              "      background-color: #E2EBFA;\n",
              "      box-shadow: 0px 1px 2px rgba(60, 64, 67, 0.3), 0px 1px 3px 1px rgba(60, 64, 67, 0.15);\n",
              "      fill: #174EA6;\n",
              "    }\n",
              "\n",
              "    .colab-df-buttons div {\n",
              "      margin-bottom: 4px;\n",
              "    }\n",
              "\n",
              "    [theme=dark] .colab-df-convert {\n",
              "      background-color: #3B4455;\n",
              "      fill: #D2E3FC;\n",
              "    }\n",
              "\n",
              "    [theme=dark] .colab-df-convert:hover {\n",
              "      background-color: #434B5C;\n",
              "      box-shadow: 0px 1px 3px 1px rgba(0, 0, 0, 0.15);\n",
              "      filter: drop-shadow(0px 1px 2px rgba(0, 0, 0, 0.3));\n",
              "      fill: #FFFFFF;\n",
              "    }\n",
              "  </style>\n",
              "\n",
              "    <script>\n",
              "      const buttonEl =\n",
              "        document.querySelector('#df-5a3dfc96-9e96-402c-9555-1c3eb79676c5 button.colab-df-convert');\n",
              "      buttonEl.style.display =\n",
              "        google.colab.kernel.accessAllowed ? 'block' : 'none';\n",
              "\n",
              "      async function convertToInteractive(key) {\n",
              "        const element = document.querySelector('#df-5a3dfc96-9e96-402c-9555-1c3eb79676c5');\n",
              "        const dataTable =\n",
              "          await google.colab.kernel.invokeFunction('convertToInteractive',\n",
              "                                                    [key], {});\n",
              "        if (!dataTable) return;\n",
              "\n",
              "        const docLinkHtml = 'Like what you see? Visit the ' +\n",
              "          '<a target=\"_blank\" href=https://colab.research.google.com/notebooks/data_table.ipynb>data table notebook</a>'\n",
              "          + ' to learn more about interactive tables.';\n",
              "        element.innerHTML = '';\n",
              "        dataTable['output_type'] = 'display_data';\n",
              "        await google.colab.output.renderOutput(dataTable, element);\n",
              "        const docLink = document.createElement('div');\n",
              "        docLink.innerHTML = docLinkHtml;\n",
              "        element.appendChild(docLink);\n",
              "      }\n",
              "    </script>\n",
              "  </div>\n",
              "\n",
              "\n",
              "    <div id=\"df-8af2045c-676e-463e-b350-0d4f1c0f0a76\">\n",
              "      <button class=\"colab-df-quickchart\" onclick=\"quickchart('df-8af2045c-676e-463e-b350-0d4f1c0f0a76')\"\n",
              "                title=\"Suggest charts\"\n",
              "                style=\"display:none;\">\n",
              "\n",
              "<svg xmlns=\"http://www.w3.org/2000/svg\" height=\"24px\"viewBox=\"0 0 24 24\"\n",
              "     width=\"24px\">\n",
              "    <g>\n",
              "        <path d=\"M19 3H5c-1.1 0-2 .9-2 2v14c0 1.1.9 2 2 2h14c1.1 0 2-.9 2-2V5c0-1.1-.9-2-2-2zM9 17H7v-7h2v7zm4 0h-2V7h2v10zm4 0h-2v-4h2v4z\"/>\n",
              "    </g>\n",
              "</svg>\n",
              "      </button>\n",
              "\n",
              "<style>\n",
              "  .colab-df-quickchart {\n",
              "      --bg-color: #E8F0FE;\n",
              "      --fill-color: #1967D2;\n",
              "      --hover-bg-color: #E2EBFA;\n",
              "      --hover-fill-color: #174EA6;\n",
              "      --disabled-fill-color: #AAA;\n",
              "      --disabled-bg-color: #DDD;\n",
              "  }\n",
              "\n",
              "  [theme=dark] .colab-df-quickchart {\n",
              "      --bg-color: #3B4455;\n",
              "      --fill-color: #D2E3FC;\n",
              "      --hover-bg-color: #434B5C;\n",
              "      --hover-fill-color: #FFFFFF;\n",
              "      --disabled-bg-color: #3B4455;\n",
              "      --disabled-fill-color: #666;\n",
              "  }\n",
              "\n",
              "  .colab-df-quickchart {\n",
              "    background-color: var(--bg-color);\n",
              "    border: none;\n",
              "    border-radius: 50%;\n",
              "    cursor: pointer;\n",
              "    display: none;\n",
              "    fill: var(--fill-color);\n",
              "    height: 32px;\n",
              "    padding: 0;\n",
              "    width: 32px;\n",
              "  }\n",
              "\n",
              "  .colab-df-quickchart:hover {\n",
              "    background-color: var(--hover-bg-color);\n",
              "    box-shadow: 0 1px 2px rgba(60, 64, 67, 0.3), 0 1px 3px 1px rgba(60, 64, 67, 0.15);\n",
              "    fill: var(--button-hover-fill-color);\n",
              "  }\n",
              "\n",
              "  .colab-df-quickchart-complete:disabled,\n",
              "  .colab-df-quickchart-complete:disabled:hover {\n",
              "    background-color: var(--disabled-bg-color);\n",
              "    fill: var(--disabled-fill-color);\n",
              "    box-shadow: none;\n",
              "  }\n",
              "\n",
              "  .colab-df-spinner {\n",
              "    border: 2px solid var(--fill-color);\n",
              "    border-color: transparent;\n",
              "    border-bottom-color: var(--fill-color);\n",
              "    animation:\n",
              "      spin 1s steps(1) infinite;\n",
              "  }\n",
              "\n",
              "  @keyframes spin {\n",
              "    0% {\n",
              "      border-color: transparent;\n",
              "      border-bottom-color: var(--fill-color);\n",
              "      border-left-color: var(--fill-color);\n",
              "    }\n",
              "    20% {\n",
              "      border-color: transparent;\n",
              "      border-left-color: var(--fill-color);\n",
              "      border-top-color: var(--fill-color);\n",
              "    }\n",
              "    30% {\n",
              "      border-color: transparent;\n",
              "      border-left-color: var(--fill-color);\n",
              "      border-top-color: var(--fill-color);\n",
              "      border-right-color: var(--fill-color);\n",
              "    }\n",
              "    40% {\n",
              "      border-color: transparent;\n",
              "      border-right-color: var(--fill-color);\n",
              "      border-top-color: var(--fill-color);\n",
              "    }\n",
              "    60% {\n",
              "      border-color: transparent;\n",
              "      border-right-color: var(--fill-color);\n",
              "    }\n",
              "    80% {\n",
              "      border-color: transparent;\n",
              "      border-right-color: var(--fill-color);\n",
              "      border-bottom-color: var(--fill-color);\n",
              "    }\n",
              "    90% {\n",
              "      border-color: transparent;\n",
              "      border-bottom-color: var(--fill-color);\n",
              "    }\n",
              "  }\n",
              "</style>\n",
              "\n",
              "      <script>\n",
              "        async function quickchart(key) {\n",
              "          const quickchartButtonEl =\n",
              "            document.querySelector('#' + key + ' button');\n",
              "          quickchartButtonEl.disabled = true;  // To prevent multiple clicks.\n",
              "          quickchartButtonEl.classList.add('colab-df-spinner');\n",
              "          try {\n",
              "            const charts = await google.colab.kernel.invokeFunction(\n",
              "                'suggestCharts', [key], {});\n",
              "          } catch (error) {\n",
              "            console.error('Error during call to suggestCharts:', error);\n",
              "          }\n",
              "          quickchartButtonEl.classList.remove('colab-df-spinner');\n",
              "          quickchartButtonEl.classList.add('colab-df-quickchart-complete');\n",
              "        }\n",
              "        (() => {\n",
              "          let quickchartButtonEl =\n",
              "            document.querySelector('#df-8af2045c-676e-463e-b350-0d4f1c0f0a76 button');\n",
              "          quickchartButtonEl.style.display =\n",
              "            google.colab.kernel.accessAllowed ? 'block' : 'none';\n",
              "        })();\n",
              "      </script>\n",
              "    </div>\n",
              "\n",
              "    </div>\n",
              "  </div>\n"
            ],
            "application/vnd.google.colaboratory.intrinsic+json": {
              "type": "dataframe",
              "variable_name": "new_df"
            }
          },
          "metadata": {},
          "execution_count": 16
        }
      ]
    },
    {
      "cell_type": "code",
      "source": [
        "# Shuffle and reset index\n",
        "new_df_shuffled = new_df.sample(frac=1, random_state=42).reset_index(drop=True)\n",
        "\n",
        "# Take first 60k for training\n",
        "train_df = new_df_shuffled.iloc[:60000]\n",
        "\n",
        "# Next 15k for validation\n",
        "val_df = new_df_shuffled.iloc[60000:75000]\n",
        "\n",
        "# Last 15k for testing\n",
        "test_df = new_df_shuffled.iloc[75000:90000]\n",
        "\n",
        "# Optional: check sizes\n",
        "print(f\"Train: {len(train_df)}, Val: {len(val_df)}, Test: {len(test_df)}\")\n"
      ],
      "metadata": {
        "colab": {
          "base_uri": "https://localhost:8080/"
        },
        "id": "q_Cbw7jhoc10",
        "outputId": "fa516020-bf23-4448-8757-fafdb18445e6"
      },
      "execution_count": 17,
      "outputs": [
        {
          "output_type": "stream",
          "name": "stdout",
          "text": [
            "Train: 60000, Val: 15000, Test: 15000\n"
          ]
        }
      ]
    },
    {
      "cell_type": "code",
      "source": [
        "train_df.to_excel('drive/MyDrive/Colab Notebooks/w266/Project/data/3_line_train_dataset.xlsx', index=False)\n",
        "val_df.to_excel('drive/MyDrive/Colab Notebooks/w266/Project/data/3_line_val_dataset.xlsx', index=False)\n",
        "test_df.to_excel('drive/MyDrive/Colab Notebooks/w266/Project/data/3_line_test_dataset.xlsx', index=False)"
      ],
      "metadata": {
        "id": "bIQLPaGPrO6Y"
      },
      "execution_count": null,
      "outputs": []
    }
  ],
  "metadata": {
    "anaconda-cloud": {},
    "kernelspec": {
      "display_name": "Python 3",
      "name": "python3"
    },
    "language_info": {
      "codemirror_mode": {
        "name": "ipython",
        "version": 3
      },
      "file_extension": ".py",
      "mimetype": "text/x-python",
      "name": "python",
      "nbconvert_exporter": "python",
      "pygments_lexer": "ipython3",
      "version": "3.11.4"
    },
    "colab": {
      "provenance": [],
      "machine_shape": "hm",
      "gpuType": "T4"
    }
  },
  "nbformat": 4,
  "nbformat_minor": 0
}