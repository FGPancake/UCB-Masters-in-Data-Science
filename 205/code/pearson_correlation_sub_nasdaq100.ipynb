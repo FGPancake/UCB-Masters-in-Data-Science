{
 "cells": [
  {
   "cell_type": "code",
   "execution_count": 1,
   "id": "ef4006b5",
   "metadata": {},
   "outputs": [],
   "source": [
    "import pandas as pd\n",
    "import numpy as np\n",
    "from sklearn.preprocessing import StandardScaler"
   ]
  },
  {
   "cell_type": "markdown",
   "id": "b1eb8b95",
   "metadata": {},
   "source": [
    "### Set Up Data"
   ]
  },
  {
   "cell_type": "code",
   "execution_count": 2,
   "id": "3f785126",
   "metadata": {},
   "outputs": [],
   "source": [
    "nasdaq100 = pd.read_csv(\"/user/projects/project-3-techChanakya/data/NASDAQ_100_Data_From_2010.csv\",sep=\"\\t\")"
   ]
  },
  {
   "cell_type": "code",
   "execution_count": 3,
   "id": "1b84aadf",
   "metadata": {},
   "outputs": [],
   "source": [
    "# Set date parameters\n",
    "start_date = '2021-05-01'\n",
    "end_date = '2021-09-30'\n",
    "\n",
    "sub_nasdaq100 = nasdaq100[(nasdaq100['Date']>= start_date) & (nasdaq100['Date'] <= end_date)]"
   ]
  },
  {
   "cell_type": "markdown",
   "id": "188d7370",
   "metadata": {},
   "source": [
    "#### Set Up Pearson Correlation Metrics"
   ]
  },
  {
   "cell_type": "code",
   "execution_count": 4,
   "id": "70953b54",
   "metadata": {},
   "outputs": [],
   "source": [
    "pivot_data = sub_nasdaq100.pivot(index='Date', columns='Name', values='Close')\n",
    "\n",
    "# Standardize to prevent large ranges between stocks (outliers) from dominationg\n",
    "scaler = StandardScaler()\n",
    "\n",
    "normalized_data = scaler.fit_transform(pivot_data)\n",
    "\n",
    "correlation_matrix = np.corrcoef(normalized_data.T)"
   ]
  },
  {
   "cell_type": "code",
   "execution_count": 5,
   "id": "3f0c7aa6",
   "metadata": {},
   "outputs": [
    {
     "name": "stdout",
     "output_type": "stream",
     "text": [
      "          AAPL      ADBE       ADI       ADP      ADSK       AEP      ALGN  \\\n",
      "AAPL  1.000000  0.959071  0.483433  0.830890  0.719896  0.654451  0.875747   \n",
      "ADBE  0.959071  1.000000  0.626680  0.824658  0.726294  0.553116  0.895322   \n",
      "ADI   0.483433  0.626680  1.000000  0.615201  0.539853  0.109034  0.574187   \n",
      "ADP   0.830890  0.824658  0.615201  1.000000  0.893719  0.681567  0.826015   \n",
      "ADSK  0.719896  0.726294  0.539853  0.893719  1.000000  0.641644  0.745979   \n",
      "...        ...       ...       ...       ...       ...       ...       ...   \n",
      "WBA  -0.810144 -0.788888 -0.482522 -0.739569 -0.710359 -0.348523 -0.586548   \n",
      "WDAY  0.588310  0.595777  0.172393  0.233950  0.145609  0.448618  0.650578   \n",
      "XEL  -0.400249 -0.542443 -0.590300 -0.229653 -0.208771  0.344954 -0.262877   \n",
      "XLNX  0.857907  0.911114  0.647094  0.780952  0.712473  0.623550  0.940269   \n",
      "ZM    0.233404  0.351377  0.662045  0.355973  0.378842 -0.294925  0.120462   \n",
      "\n",
      "          AMAT       AMD      AMGN  ...      TSLA       TXN      VRSK  \\\n",
      "AAPL  0.219958  0.880109 -0.588767  ...  0.831381  0.446291  0.883132   \n",
      "ADBE  0.326141  0.902449 -0.673511  ...  0.822166  0.532993  0.827629   \n",
      "ADI   0.763485  0.603361 -0.524210  ...  0.488196  0.843103  0.249138   \n",
      "ADP   0.288053  0.884949 -0.587287  ...  0.676493  0.492169  0.701800   \n",
      "ADSK  0.239946  0.820209 -0.512798  ...  0.637643  0.375884  0.617927   \n",
      "...        ...       ...       ...  ...       ...       ...       ...   \n",
      "WBA  -0.261513 -0.669112  0.278592  ... -0.551571 -0.432182 -0.563896   \n",
      "WDAY  0.162998  0.553541 -0.589334  ...  0.716641  0.286473  0.727085   \n",
      "XEL  -0.464005 -0.317022  0.156615  ... -0.327120 -0.514924 -0.077855   \n",
      "XLNX  0.409981  0.956122 -0.779362  ...  0.878467  0.591403  0.827280   \n",
      "ZM    0.566656  0.238021  0.081832  ...  0.101064  0.535456 -0.156832   \n",
      "\n",
      "          VRSN      VRTX       WBA      WDAY       XEL      XLNX        ZM  \n",
      "AAPL -0.134871 -0.593701 -0.810144  0.588310 -0.400249  0.857907  0.233404  \n",
      "ADBE -0.145819 -0.717680 -0.788888  0.595777 -0.542443  0.911114  0.351377  \n",
      "ADI  -0.066603 -0.634740 -0.482522  0.172393 -0.590300  0.647094  0.662045  \n",
      "ADP  -0.460008 -0.461885 -0.739569  0.233950 -0.229653  0.780952  0.355973  \n",
      "ADSK -0.491227 -0.349540 -0.710359  0.145609 -0.208771  0.712473  0.378842  \n",
      "...        ...       ...       ...       ...       ...       ...       ...  \n",
      "WBA  -0.052732  0.505279  1.000000 -0.154608  0.521237 -0.610898 -0.553502  \n",
      "WDAY  0.000181 -0.375614 -0.154608  1.000000 -0.188423  0.678794 -0.266471  \n",
      "XEL  -0.403690  0.710361  0.521237 -0.188423  1.000000 -0.422250 -0.714705  \n",
      "XLNX -0.306483 -0.567682 -0.610898  0.678794 -0.422250  1.000000  0.228079  \n",
      "ZM    0.256844 -0.472508 -0.553502 -0.266471 -0.714705  0.228079  1.000000  \n",
      "\n",
      "[102 rows x 102 columns]\n"
     ]
    }
   ],
   "source": [
    "# view the correlation matrix\n",
    "tickers = pivot_data.columns.tolist()\n",
    "\n",
    "correlation_df = pd.DataFrame(correlation_matrix, index=tickers, columns=tickers)\n",
    "\n",
    "print(correlation_df)"
   ]
  },
  {
   "cell_type": "markdown",
   "id": "56df8f7f",
   "metadata": {},
   "source": [
    "### Neo4j Set Up"
   ]
  },
  {
   "cell_type": "code",
   "execution_count": 6,
   "id": "31b1593f",
   "metadata": {},
   "outputs": [],
   "source": [
    "from neo4j import GraphDatabase"
   ]
  },
  {
   "cell_type": "code",
   "execution_count": 7,
   "id": "c44d955a",
   "metadata": {},
   "outputs": [],
   "source": [
    "# Neo4j connnection parameters\n",
    "uri = \"neo4j://neo4j:7687\"\n",
    "user = \"neo4j\"\n",
    "password = \"ucb_mids_w205\"\n",
    "\n",
    "# Neo4j connection\n",
    "driver = GraphDatabase.driver(uri=uri, auth=(user,password))"
   ]
  },
  {
   "cell_type": "code",
   "execution_count": 8,
   "id": "4cc66724",
   "metadata": {},
   "outputs": [],
   "source": [
    "# Function to wipe out database by deleting all nodes and relationships\n",
    "def my_neo4j_wipe_out_database():\n",
    "    \"\"\"\n",
    "    Wipe out the Neo4j database by deleting all nodes and relationships.\n",
    "    \"\"\"\n",
    "    with driver.session() as session:\n",
    "        session.run(\"MATCH (n)-[r]->() DELETE r, n\")  # Delete nodes with relationships\n",
    "        session.run(\"MATCH (n) DELETE n\")  # Delete remaining nodes\n",
    "    print(\"Neo4j database wiped clean.\")"
   ]
  },
  {
   "cell_type": "code",
   "execution_count": 9,
   "id": "c9ecde8e",
   "metadata": {},
   "outputs": [],
   "source": [
    "# Function to insert stock data into neo4j\n",
    "def insert_stock_data(tx, stock, date, close, volume):\n",
    "    \"\"\"\n",
    "        Insert stock and trading day nodes into Neo4j\n",
    "    \"\"\"\n",
    "    tx.run(\"\"\"\n",
    "        MERGE (s:Stock {name: $stock})\n",
    "        MERGE (t:StockTradingDay {\n",
    "                    date:date($date), \n",
    "                    close:toFloat($close), \n",
    "                    volume:toInteger($volume)\n",
    "                })\n",
    "                    \n",
    "        MERGE (s)-[:TRADING_DAY]->(t)\n",
    "    \"\"\", stock=stock, date=date, close=close, volume=volume)"
   ]
  },
  {
   "cell_type": "code",
   "execution_count": 10,
   "id": "c893df56",
   "metadata": {},
   "outputs": [],
   "source": [
    "# Function to create correlations between stocks into neo4j\n",
    "def link_correlation_data(tx, stock1, stock2, correlation_value):\n",
    "    \"\"\"\n",
    "    Insert correlation relationships between stocks into Neo4j.\n",
    "    \"\"\"\n",
    "    tx.run(\"\"\"\n",
    "        MATCH (s1:Stock {name: $stock1}), (s2:Stock {name: $stock2})\n",
    "        MERGE (s1)-[r:CORRELATION]-(s2)\n",
    "        SET r.value = $correlation_value\n",
    "    \"\"\", stock1=stock1, stock2=stock2, correlation_value=correlation_value)"
   ]
  },
  {
   "cell_type": "code",
   "execution_count": 11,
   "id": "36463046",
   "metadata": {},
   "outputs": [],
   "source": [
    "# Function to create relationships between stocks and trading days into neo4j\n",
    "def link_trading_days(tx, stock):\n",
    "    \"\"\"\n",
    "        Links StockTradingDay nodes for a given stock using apoc.nodes.link()\n",
    "    \"\"\"\n",
    "    tx.run(\"\"\"\n",
    "        MATCH(s:Stock {name: $stock})-[:TRADING_DAY]->(day:StockTradingDay)\n",
    "        WITH s, day\n",
    "        ORDER by day.date ASC\n",
    "        WITH s, collect(day) AS days\n",
    "        UNWIND range(0, size(days)-2) AS i\n",
    "        WITH days[i] AS current_day, days[i+1] AS next_day\n",
    "        MERGE (current_day)-[:NEXT_DAY]->(next_day)\n",
    "    \"\"\", stock=stock)"
   ]
  },
  {
   "cell_type": "markdown",
   "id": "4f8fc736",
   "metadata": {},
   "source": [
    "#### Implementing into Neo4j Driver"
   ]
  },
  {
   "cell_type": "code",
   "execution_count": 12,
   "id": "ab1fddbb",
   "metadata": {},
   "outputs": [
    {
     "name": "stdout",
     "output_type": "stream",
     "text": [
      "Neo4j database wiped clean.\n"
     ]
    }
   ],
   "source": [
    "my_neo4j_wipe_out_database()"
   ]
  },
  {
   "cell_type": "code",
   "execution_count": 13,
   "id": "3faa9d46",
   "metadata": {},
   "outputs": [],
   "source": [
    "# Creating Neo4j database with Linked Trading Days and Pearson Correlations on Stocks\n",
    "with driver.session() as session:\n",
    "    for _, row in sub_nasdaq100.iterrows():\n",
    "        stock = row['Name']\n",
    "        date = row['Date']\n",
    "        close = row['Close']\n",
    "        volume = row['Volume']\n",
    "        \n",
    "        session.execute_write(insert_stock_data, stock, date, close, volume)\n",
    "        \n",
    "    stocks = sub_nasdaq100['Name'].unique()\n",
    "    for stock in stocks:\n",
    "        session.execute_write(link_trading_days, stock)\n",
    "\n",
    "# Pearson Correlation Metrics    \n",
    "correlation_matrix = np.corrcoef(normalized_data.T)  \n",
    "stock_names = pivot_data.columns.tolist()\n",
    "\n",
    "# Empty Low Correlation List - not to execute in neo4j\n",
    "pearson_low_corr = []\n",
    "pearson_high_corr = []\n",
    "\n",
    "with driver.session() as session:\n",
    "    for i, stock1 in enumerate(stock_names):\n",
    "        for j, stock2 in enumerate(stock_names):\n",
    "            if i < j:\n",
    "                correlation_value = correlation_matrix[i, j]\n",
    "                if abs(correlation_value) >= 0.8:\n",
    "                    pearson_high_corr.append({\n",
    "                            'Stock1': stock1,\n",
    "                            'Stock2': stock2,\n",
    "                            'Correlation': correlation_value\n",
    "                            })\n",
    "                    \n",
    "                    # write to neo4j\n",
    "                    session.execute_write(link_correlation_data, stock1, stock2, correlation_value)\n",
    "                      \n",
    "                elif abs(correlation_value) <= 0.2:\n",
    "                     pearson_low_corr.append({\n",
    "                            'Stock1': stock1,\n",
    "                            'Stock2': stock2,\n",
    "                            'Correlation': correlation_value\n",
    "                            })\n",
    "                \n",
    "driver.close()"
   ]
  },
  {
   "cell_type": "markdown",
   "id": "008e43cc",
   "metadata": {},
   "source": [
    "##### Save Correlations >= to .8 as high correlations"
   ]
  },
  {
   "cell_type": "code",
   "execution_count": 14,
   "id": "d6ac75fe",
   "metadata": {},
   "outputs": [],
   "source": [
    "df_pearson_high_corr = pd.DataFrame(pearson_high_corr)"
   ]
  },
  {
   "cell_type": "code",
   "execution_count": 15,
   "id": "ccb61b2b",
   "metadata": {},
   "outputs": [],
   "source": [
    "df_pearson_high_corr.to_csv(\"pearson_high_correlation_0.8_or_more.csv\", index=False)"
   ]
  },
  {
   "cell_type": "markdown",
   "id": "9c594f6c",
   "metadata": {},
   "source": [
    "##### Save Correlations <= to .2 as low correlations"
   ]
  },
  {
   "cell_type": "code",
   "execution_count": 16,
   "id": "62ada0d9",
   "metadata": {},
   "outputs": [],
   "source": [
    "df_pearson_low_corr = pd.DataFrame(pearson_low_corr)"
   ]
  },
  {
   "cell_type": "code",
   "execution_count": 17,
   "id": "3c496049",
   "metadata": {},
   "outputs": [],
   "source": [
    "df_pearson_low_corr.to_csv(\"pearson_low_correlation_0.2_or_less.csv\", index=False)"
   ]
  },
  {
   "cell_type": "markdown",
   "id": "90437503",
   "metadata": {},
   "source": [
    "### Cypher Code to retrieve visuals and tables in Neo4j"
   ]
  },
  {
   "cell_type": "markdown",
   "id": "147a2e0a",
   "metadata": {},
   "source": [
    "##### Pearson Correlation graph between stocks and trading day clusters\n",
    "MATCH (N) RETURN N\n",
    "\n",
    "##### Pearson Correlation graph between stocks only\n",
    "MATCH (s1:Stock)-[r:CORRELATION]->(s2:Stock)\n",
    "RETURN s1, r, s2"
   ]
  }
 ],
 "metadata": {
  "kernelspec": {
   "display_name": "Python 3 (ipykernel)",
   "language": "python",
   "name": "python3"
  },
  "language_info": {
   "codemirror_mode": {
    "name": "ipython",
    "version": 3
   },
   "file_extension": ".py",
   "mimetype": "text/x-python",
   "name": "python",
   "nbconvert_exporter": "python",
   "pygments_lexer": "ipython3",
   "version": "3.9.7"
  }
 },
 "nbformat": 4,
 "nbformat_minor": 5
}
