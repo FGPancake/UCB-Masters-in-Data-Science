{
 "cells": [
  {
   "cell_type": "code",
   "execution_count": 1,
   "id": "d3a5a0a3",
   "metadata": {},
   "outputs": [],
   "source": [
    "import pandas as pd\n",
    "from neo4j import GraphDatabase"
   ]
  },
  {
   "cell_type": "markdown",
   "id": "5652b2e1",
   "metadata": {},
   "source": [
    "# Starting data set from Kaggle has 271,680 rows and 8 columns; 102 stocks\n",
    "nasdaq100 = pd.read_csv(\"/user/projects/project-3-techChanakya/data/NASDAQ_100_Data_From_2010.csv\",sep=\"\\t\")\n",
    "\n",
    "# Filter the data for the time range May to September 2021\n",
    "start_date = '2021-05-01'\n",
    "end_date = '2021-09-30'\n",
    "\n",
    "sub_nasdaq100 = nasdaq100[(nasdaq100['Date'] >= start_date) & (nasdaq100['Date'] <= end_date)]\n",
    "print(sub_nasdaq100.shape)\n",
    "\n",
    "# Sub data set has 9,384 rows and 8 columns; 102 stocks\n",
    "\n",
    "print(sub_nasdaq100['Name'].nunique())"
   ]
  },
  {
   "cell_type": "code",
   "execution_count": 2,
   "id": "1e2a1dc1",
   "metadata": {},
   "outputs": [],
   "source": [
    "sub_nasdaq100 = pd.read_csv(\"/user/projects/project-3-techChanakya/data/sub_nasdaq100.csv\")"
   ]
  },
  {
   "cell_type": "code",
   "execution_count": 2,
   "id": "4594d367",
   "metadata": {},
   "outputs": [],
   "source": [
    "# Neo4j connnection parameters\n",
    "uri = \"neo4j://neo4j:7687\"\n",
    "user = \"neo4j\"\n",
    "password = \"ucb_mids_w205\"\n",
    "\n",
    "# Neo4j connection\n",
    "driver = GraphDatabase.driver(uri=uri, auth=(user,password))\n",
    "\n",
    "# Session is only needed if we have more than one database but here we have default database so this is optional\n",
    "    # session = driver.session(database=\"neo4j\")"
   ]
  },
  {
   "cell_type": "markdown",
   "id": "17eb7f90",
   "metadata": {},
   "source": [
    "# my_neo4j_wipe_out_database() - since community edition can only have 1 database \"neo4j\", this function will wipe out all the nodes and relationships"
   ]
  },
  {
   "cell_type": "code",
   "execution_count": null,
   "id": "e24e81b1",
   "metadata": {},
   "outputs": [],
   "source": [
    "def my_neo4j_wipe_out_database():\n",
    "    \"\"\"\n",
    "    wipe out database by deleting all nodes and relationships\n",
    "    \"\"\"\n",
    "    \n",
    "    with driver.session() as session:\n",
    "        session.run(\"MATCH (n)-[r]->() DELETE r, n\") # Delete nodes with relationship\n",
    "        session.run(\"MATCH (n) DELETE n\") # Delete remaining nodes\n",
    "        \n",
    "def insert_stock_data(tx, stock, date, close, volume):\n",
    "    \"\"\"\n",
    "        Insert stock and trading day nodes into Neo4j\n",
    "    \"\"\"\n",
    "    tx.run(\"\"\"\n",
    "        MERGE (s:Stock {name: $stock})\n",
    "        MERGE (t:StockTradingDay {date:date($date), close:toFloat($close), volume:toInteger($volume)})\n",
    "        MERGE (s)-[:TRADING_DAY]->(t)\n",
    "    \"\"\", stock=stock, date=date, close=close, volume=volume)\n",
    "\n",
    "def link_trading_days(tx, stock):\n",
    "    \"\"\"\n",
    "        Links StockTradingDay nodes for a given stock using apoc.nodes.link()\n",
    "    \"\"\"\n",
    "    tx.run(\"\"\"\n",
    "        MATCH(s:Stock {name: $stock})-[:TRADING_DAY]->(day:StockTradingDay)\n",
    "        WITH s, day\n",
    "        ORDER by day.date ASC\n",
    "        WITH s, collect(day) AS days\n",
    "        UNWIND range(0, size(days)-2) AS i\n",
    "        WITH days[i] AS current_day, days[i+1] AS next_day\n",
    "        MERGE (current_day)-[:NEXT_DAY]->(next_day)\n",
    "    \"\"\", stock=stock)\n",
    "\n",
    "# Prep the dataframe \n",
    "sub_nasdaq100.sort_values(by=['Name','Date'], inplace=True)\n",
    "\n",
    "# Wipe out current Neo4j database\n",
    "my_neo4j_wipe_out_database()\n",
    "\n",
    "# Insert stock and trading day nodes\n",
    "with driver.session() as session:\n",
    "    for _, row in sub_nasdaq100.iterrows():\n",
    "        stock = row['Name']\n",
    "        date = row['Date']\n",
    "        close = row['Close']\n",
    "        volume = row['Volume']\n",
    "        \n",
    "        session.execute_write(insert_stock_data, stock, date, close, volume)\n",
    "        \n",
    "    # Link trading day nodes per stock\n",
    "    stocks = sub_nasdaq100['Name'].unique()\n",
    "    for stock in stocks:\n",
    "        session.execute_write(link_trading_days, stock)\n",
    "\n",
    "driver.close()"
   ]
  },
  {
   "cell_type": "markdown",
   "id": "4356b37e",
   "metadata": {},
   "source": [
    "# Query to retrive the linked list for a given stock\n",
    "\n",
    "MATCH (s:Stock {name:'AAPL'})-[:TRADING_DAY]->(start:StockTradingDay)\n",
    "\n",
    "MATCH path = (start)-[:NEXT_DAY]->(end:StockTradingDay)\n",
    "\n",
    "RETURN s, path"
   ]
  }
 ],
 "metadata": {
  "kernelspec": {
   "display_name": "Python 3 (ipykernel)",
   "language": "python",
   "name": "python3"
  },
  "language_info": {
   "codemirror_mode": {
    "name": "ipython",
    "version": 3
   },
   "file_extension": ".py",
   "mimetype": "text/x-python",
   "name": "python",
   "nbconvert_exporter": "python",
   "pygments_lexer": "ipython3",
   "version": "3.9.7"
  }
 },
 "nbformat": 4,
 "nbformat_minor": 5
}
