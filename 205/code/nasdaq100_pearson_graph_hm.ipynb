{
 "cells": [
  {
   "cell_type": "code",
   "execution_count": 1,
   "id": "7a3a8308",
   "metadata": {},
   "outputs": [],
   "source": [
    "import pandas as pd\n",
    "from neo4j import GraphDatabase\n",
    "from IPython.display import display"
   ]
  },
  {
   "cell_type": "markdown",
   "id": "455bf640",
   "metadata": {},
   "source": [
    "## Create Sub Data Set\n",
    "### Filter by times range\n",
    "- start_date = '2021-05-01' \n",
    "- end_date = '2021-09-30'"
   ]
  },
  {
   "cell_type": "code",
   "execution_count": 2,
   "id": "fb421aa9",
   "metadata": {},
   "outputs": [],
   "source": [
    "start_date = '2021-05-01'\n",
    "end_date = '2021-09-30'"
   ]
  },
  {
   "cell_type": "code",
   "execution_count": 4,
   "id": "3a6f20e7",
   "metadata": {},
   "outputs": [],
   "source": [
    "nasdaq100 = pd.read_csv(\"/user/projects/project-3-techChanakya/data/NASDAQ_100_Data_From_2010.csv\",sep=\"\\t\")"
   ]
  },
  {
   "cell_type": "code",
   "execution_count": 5,
   "id": "f0c0e7da",
   "metadata": {},
   "outputs": [
    {
     "name": "stdout",
     "output_type": "stream",
     "text": [
      "(9384, 8)\n"
     ]
    }
   ],
   "source": [
    "sub_nasdaq100 = nasdaq100[(nasdaq100['Date'] >= start_date) & (nasdaq100['Date'] <= end_date)] \n",
    "\n",
    "print(sub_nasdaq100.shape)"
   ]
  },
  {
   "cell_type": "code",
   "execution_count": 6,
   "id": "ab420cf3",
   "metadata": {},
   "outputs": [],
   "source": [
    "sub_nasdaq100.to_csv('sub_nasdaq100.csv', index = False)"
   ]
  },
  {
   "cell_type": "markdown",
   "id": "4ea45ac6",
   "metadata": {},
   "source": [
    "### Neo4j Setup"
   ]
  },
  {
   "cell_type": "code",
   "execution_count": 7,
   "id": "b1e6c65a",
   "metadata": {},
   "outputs": [],
   "source": [
    "uri = \"neo4j://neo4j:7473\"\n",
    "user = \"neo4j\"\n",
    "password = \"ucb_mids_w205\"\n",
    "\n",
    "driver = GraphDatabase.driver(uri=uri, auth=(user,password))"
   ]
  },
  {
   "cell_type": "code",
   "execution_count": 8,
   "id": "cc5b1303",
   "metadata": {},
   "outputs": [
    {
     "name": "stderr",
     "output_type": "stream",
     "text": [
      "/opt/conda/lib/python3.9/site-packages/pandas/util/_decorators.py:311: SettingWithCopyWarning: \n",
      "A value is trying to be set on a copy of a slice from a DataFrame\n",
      "\n",
      "See the caveats in the documentation: https://pandas.pydata.org/pandas-docs/stable/user_guide/indexing.html#returning-a-view-versus-a-copy\n",
      "  return func(*args, **kwargs)\n"
     ]
    }
   ],
   "source": [
    "sub_nasdaq100.sort_values(by=['Name', 'Date'], inplace=True)\n",
    "\n",
    "pivot_df = sub_nasdaq100.pivot(index='Date', columns='Name', values='Close')\n",
    "\n",
    "# daily percent changes/returns in stocks\n",
    "returns = pivot_df.pct_change().dropna()\n",
    "\n",
    "# This is the Pearson correlation between stock returns\n",
    "correlation_matrix = returns.corr()"
   ]
  },
  {
   "cell_type": "code",
   "execution_count": 10,
   "id": "719bcb05",
   "metadata": {},
   "outputs": [
    {
     "name": "stderr",
     "output_type": "stream",
     "text": [
      "/tmp/ipykernel_304/1371621696.py:14: DeprecationWarning: write_transaction has been renamed to execute_write\n",
      "  session.write_transaction(create_correlation, stock1, stock2, float(corr))\n"
     ]
    }
   ],
   "source": [
    "def create_correlation(tx, stock1, stock2, weight):\n",
    "    tx.run(\"\"\"\n",
    "        MATCH (s1:Stock {name: $stock1}), (s2:Stock {name: $stock2})\n",
    "        MERGE (s1)-[r:CORRELATED_WITH]->(s2)\n",
    "        SET r.weight = $weight\n",
    "    \"\"\", stock1=stock1, stock2=stock2, weight=weight)\n",
    "\n",
    "with driver.session() as session:\n",
    "    for stock1 in correlation_matrix.columns:\n",
    "        for stock2 in correlation_matrix.columns:\n",
    "            if stock1 != stock2:\n",
    "                corr = correlation_matrix.loc[stock1, stock2]\n",
    "                if corr >= 0.5:\n",
    "                    session.write_transaction(create_correlation, stock1, stock2, float(corr))"
   ]
  },
  {
   "cell_type": "code",
   "execution_count": null,
   "id": "1ab0e462",
   "metadata": {},
   "outputs": [],
   "source": [
    "## Cypher Code\n",
    "## MATCH (s1:Stock)-[r:CORRELATED_WITH]->(s2:Stock) RETURN s1, r, s2"
   ]
  }
 ],
 "metadata": {
  "kernelspec": {
   "display_name": "Python 3 (ipykernel)",
   "language": "python",
   "name": "python3"
  },
  "language_info": {
   "codemirror_mode": {
    "name": "ipython",
    "version": 3
   },
   "file_extension": ".py",
   "mimetype": "text/x-python",
   "name": "python",
   "nbconvert_exporter": "python",
   "pygments_lexer": "ipython3",
   "version": "3.9.7"
  }
 },
 "nbformat": 4,
 "nbformat_minor": 5
}
